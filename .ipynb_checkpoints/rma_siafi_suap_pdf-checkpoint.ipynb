{
 "cells": [
  {
   "cell_type": "markdown",
   "id": "eb6241c0",
   "metadata": {},
   "source": [
    "# importando tabula e arquivos pdf\n",
    "- importante que os PDFs estejam todos na mesma página dos arquivos"
   ]
  },
  {
   "cell_type": "code",
   "execution_count": 1,
   "id": "efb34f98",
   "metadata": {},
   "outputs": [
    {
     "name": "stderr",
     "output_type": "stream",
     "text": [
      "Got stderr: jul 13, 2021 9:00:04 PM org.apache.pdfbox.pdmodel.font.FileSystemFontProvider loadDiskCache\r\n",
      "ADVERTÊNCIA: New fonts found, font cache will be re-built\r\n",
      "jul 13, 2021 9:00:04 PM org.apache.pdfbox.pdmodel.font.FileSystemFontProvider <init>\r\n",
      "ADVERTÊNCIA: Building on-disk font cache, this may take a while\r\n",
      "jul 13, 2021 9:00:04 PM org.apache.pdfbox.pdmodel.font.FileSystemFontProvider <init>\r\n",
      "ADVERTÊNCIA: Finished building on-disk font cache, found 181 fonts\r\n",
      "\n"
     ]
    },
    {
     "name": "stdout",
     "output_type": "stream",
     "text": [
      "1\n"
     ]
    }
   ],
   "source": [
    "import tabula\n",
    "\n",
    "lista_suap = tabula.read_pdf(\"rma_suap.pdf\", pages=\"all\")\n",
    "print(len(lista_suap))\n"
   ]
  },
  {
   "cell_type": "code",
   "execution_count": 2,
   "id": "2a93fefd",
   "metadata": {},
   "outputs": [
    {
     "data": {
      "text/plain": [
       "[   Cod.                                Nome     Estoque  Entrada    Saída  \\\n",
       " 0   NaN                                 NaN  31/05/2021  Período  Período   \n",
       " 1    14      MATERIAL EDUCATIVO E ESPORTIVO   42.654,54     0,00     0,00   \n",
       " 2    16              MATERIAL DE EXPEDIENTE   62.510,78     0,00   163,20   \n",
       " 3    17  MATERIAL DE PROCESSAMENTO DE DADOS    6.935,87     0,00     0,00   \n",
       " 4    19      MATERIAL DE ACONDICIONAMENTO E    4.156,58     0,00     0,00   \n",
       " 5   NaN                           EMBALAGEM         NaN      NaN      NaN   \n",
       " 6    21          MATERIAL DE COPA E COZINHA   13.566,14     0,00     0,00   \n",
       " 7    22      MATERIAL DE LIMPEZA E PROD. DE   32.340,26     0,00     0,00   \n",
       " 8   NaN                        HIGIENIZACAO         NaN      NaN      NaN   \n",
       " 9    23     UNIFORMES, TECIDOS E AVIAMENTOS   40.635,65     0,00     0,00   \n",
       " 10   24           MATERIAL P/ MANUT.DE BENS   54.248,64     0,00     0,00   \n",
       " 11  NaN                 IMOVEIS/INSTALACOES         NaN      NaN      NaN   \n",
       " 12   25      MATERIAL P/ MANUTENCAO DE BENS      333,56     0,00     0,00   \n",
       " 13  NaN                              MOVEIS         NaN      NaN      NaN   \n",
       " 14   26      MATERIAL ELETRICO E ELETRONICO   40.922,99     0,00     0,00   \n",
       " 15   28    MATERIAL DE PROTECAO E SEGURANCA   31.859,31     0,00     0,00   \n",
       " 16   35               MATERIAL LABORATORIAL    2.903,00     0,00     0,00   \n",
       " 17   36                 MATERIAL HOSPITALAR    1.188,40     0,00     0,00   \n",
       " 18   39  MATERIAL P/ MANUTENCAO DE VEICULOS      769,00     0,00     0,00   \n",
       " 19   42                         FERRAMENTAS    6.565,51     0,00     0,00   \n",
       " 20   44    MATERIAL DE SINALIZACAO VISUAL E      377,50     0,00     0,00   \n",
       " 21  NaN                              OUTROS         NaN      NaN      NaN   \n",
       " 22   59            MATERIAL PARA DIVULGAÇÃO      676,60     0,00     0,00   \n",
       " 23    -       Todos os Elementos de Despesa  342.644,33     0,00   163,20   \n",
       " \n",
       "      Estoque.1  \n",
       " 0   30/06/2021  \n",
       " 1    42.654,54  \n",
       " 2    62.347,58  \n",
       " 3     6.935,87  \n",
       " 4     4.156,58  \n",
       " 5          NaN  \n",
       " 6    13.566,14  \n",
       " 7    32.340,26  \n",
       " 8          NaN  \n",
       " 9    40.635,65  \n",
       " 10   54.248,64  \n",
       " 11         NaN  \n",
       " 12      333,56  \n",
       " 13         NaN  \n",
       " 14   40.922,99  \n",
       " 15   31.859,31  \n",
       " 16    2.903,00  \n",
       " 17    1.188,40  \n",
       " 18      769,00  \n",
       " 19    6.565,51  \n",
       " 20      377,50  \n",
       " 21         NaN  \n",
       " 22      676,60  \n",
       " 23  342.481,13  ]"
      ]
     },
     "metadata": {},
     "output_type": "display_data"
    }
   ],
   "source": [
    "display(lista_suap)"
   ]
  },
  {
   "cell_type": "code",
   "execution_count": null,
   "id": "135b9476",
   "metadata": {},
   "outputs": [],
   "source": []
  }
 ],
 "metadata": {
  "kernelspec": {
   "display_name": "Python 3",
   "language": "python",
   "name": "python3"
  },
  "language_info": {
   "codemirror_mode": {
    "name": "ipython",
    "version": 3
   },
   "file_extension": ".py",
   "mimetype": "text/x-python",
   "name": "python",
   "nbconvert_exporter": "python",
   "pygments_lexer": "ipython3",
   "version": "3.8.8"
  }
 },
 "nbformat": 4,
 "nbformat_minor": 5
}
