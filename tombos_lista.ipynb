{
 "cells": [
  {
   "cell_type": "code",
   "execution_count": 33,
   "id": "c7a68b5a",
   "metadata": {
    "scrolled": false
   },
   "outputs": [
    {
     "data": {
      "text/plain": [
       "3     265064\n",
       "4     265065\n",
       "5     265066\n",
       "6     265067\n",
       "7     265068\n",
       "       ...  \n",
       "13    265118\n",
       "14    265119\n",
       "15    265120\n",
       "16    265121\n",
       "17    265122\n",
       "Name: tombo, Length: 96, dtype: object"
      ]
     },
     "metadata": {},
     "output_type": "display_data"
    }
   ],
   "source": [
    "import tabula\n",
    "import pandas as pd\n",
    "\n",
    "lista_pdf = tabula.read_pdf('pdf.pdf', pages='all', guess=False)\n",
    "# display(lista_pdf)\n",
    "\n",
    "lista_df = lista_pdf[0]\n",
    "\n",
    "# display(lista_df)\n",
    "\n",
    "# renomeando colunas com indices da tabela\n",
    "\n",
    "lista_df = lista_df.rename(columns={'Unnamed: 0': lista_df['Unnamed: 0'].iloc[1], 'Unnamed: 1': lista_df['Unnamed: 1'].iloc[0],\n",
    "                                   'Planilha1': lista_df['Planilha1'].iloc[0]})\n",
    "\n",
    "# fatiando colunas pra ajuste de dados\n",
    "# display(lista_df)\n",
    "ne096 = pd.Series(lista_df['2020NE800096'][3:46])\n",
    "ne098 = pd.Series(lista_df['2020NE800098'][2:39])\n",
    "ne100 = pd.Series(lista_df['2020ne800100'][2:18])\n",
    "# display(ne100)\n",
    "\n",
    "tres_empenhos = pd.concat([ne096, ne098, ne100])\n",
    "tres_empenhos.name = 'tombo'\n",
    "tres_empenhos.to_excel('requisicao_palm.xlsx', index=False)\n",
    "display(tres_empenhos)"
   ]
  },
  {
   "cell_type": "code",
   "execution_count": null,
   "id": "a61d9f18",
   "metadata": {},
   "outputs": [],
   "source": []
  }
 ],
 "metadata": {
  "kernelspec": {
   "display_name": "Python 3",
   "language": "python",
   "name": "python3"
  },
  "language_info": {
   "codemirror_mode": {
    "name": "ipython",
    "version": 3
   },
   "file_extension": ".py",
   "mimetype": "text/x-python",
   "name": "python",
   "nbconvert_exporter": "python",
   "pygments_lexer": "ipython3",
   "version": "3.8.8"
  }
 },
 "nbformat": 4,
 "nbformat_minor": 5
}
